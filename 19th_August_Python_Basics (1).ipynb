{
 "cells": [
  {
   "cell_type": "code",
   "execution_count": 60,
   "id": "ae92f47e-00d8-4264-bb0c-f592245fac10",
   "metadata": {},
   "outputs": [
    {
     "data": {
      "text/plain": [
       "'Declare two variables, `x` and `y`, and assign them integer values. Swap the\\nvalues of these variables without using any temporary variable'"
      ]
     },
     "execution_count": 60,
     "metadata": {},
     "output_type": "execute_result"
    }
   ],
   "source": [
    "#Python Basics Assignment 1 \n",
    "\n",
    "'''Declare two variables, `x` and `y`, and assign them integer values. Swap the\n",
    "values of these variables without using any temporary variable'''"
   ]
  },
  {
   "cell_type": "code",
   "execution_count": 71,
   "id": "e82842a0-5faf-47ef-94b7-2181472ebf0f",
   "metadata": {},
   "outputs": [],
   "source": [
    "x = 10\n",
    "y = 5"
   ]
  },
  {
   "cell_type": "code",
   "execution_count": 72,
   "id": "f8888019-330f-44fc-96c2-18b6fdcf4658",
   "metadata": {},
   "outputs": [],
   "source": [
    "x = x^y"
   ]
  },
  {
   "cell_type": "code",
   "execution_count": 73,
   "id": "975f6810-3894-420e-9c3c-7504432a87ab",
   "metadata": {},
   "outputs": [],
   "source": [
    "y = x^y"
   ]
  },
  {
   "cell_type": "code",
   "execution_count": 74,
   "id": "225ac0d4-173a-4a12-8b6c-ed9430982c44",
   "metadata": {},
   "outputs": [],
   "source": [
    "x = x^y"
   ]
  },
  {
   "cell_type": "code",
   "execution_count": 76,
   "id": "eee774b3-87ad-4b64-afbd-de70b4fbd237",
   "metadata": {},
   "outputs": [
    {
     "name": "stdout",
     "output_type": "stream",
     "text": [
      " The value of the first variable after swapping is : 5\n",
      " The value of the Second variable after swapping is : 10\n"
     ]
    }
   ],
   "source": [
    "print ( \" The value of the first variable after swapping is :\", x)\n",
    "print ( \" The value of the Second variable after swapping is :\", y)\n"
   ]
  },
  {
   "cell_type": "code",
   "execution_count": 77,
   "id": "bf7b48cd-39e7-41dd-a375-78e1f1a046b8",
   "metadata": {},
   "outputs": [
    {
     "data": {
      "text/plain": [
       "'Create a program that calculates the area of a rectangle. Take the length and\\nwidth as inputs from the user and store them in variables. Calculate and\\ndisplay the area'"
      ]
     },
     "execution_count": 77,
     "metadata": {},
     "output_type": "execute_result"
    }
   ],
   "source": [
    "'''Create a program that calculates the area of a rectangle. Take the length and\n",
    "width as inputs from the user and store them in variables. Calculate and\n",
    "display the area'''"
   ]
  },
  {
   "cell_type": "code",
   "execution_count": 2,
   "id": "b4a16682-6704-41a6-ba5f-130f64a975e2",
   "metadata": {},
   "outputs": [
    {
     "name": "stdin",
     "output_type": "stream",
     "text": [
      "Enter the length:  5\n"
     ]
    }
   ],
   "source": [
    "l = int(input(\"Enter the length: \"))"
   ]
  },
  {
   "cell_type": "code",
   "execution_count": 3,
   "id": "53782154-2a8a-4c12-8763-366ebcdcc47e",
   "metadata": {},
   "outputs": [
    {
     "name": "stdin",
     "output_type": "stream",
     "text": [
      "Enter the width:  6\n"
     ]
    }
   ],
   "source": [
    "w = int(input(\"Enter the width: \"))\n"
   ]
  },
  {
   "cell_type": "code",
   "execution_count": 5,
   "id": "dc258954-618c-4d6c-b7ab-670b26fe51f9",
   "metadata": {},
   "outputs": [],
   "source": [
    "A = l*w"
   ]
  },
  {
   "cell_type": "code",
   "execution_count": 6,
   "id": "5ac3adb8-6383-4f34-abc5-a73911e9ceaf",
   "metadata": {},
   "outputs": [
    {
     "name": "stdout",
     "output_type": "stream",
     "text": [
      "Area of Rectangle: 30\n"
     ]
    }
   ],
   "source": [
    "print(\"Area of Rectangle:\", A)"
   ]
  },
  {
   "cell_type": "code",
   "execution_count": 1,
   "id": "20021884-d1de-4ede-bb18-68ec22d84105",
   "metadata": {},
   "outputs": [
    {
     "data": {
      "text/plain": [
       "'Write a Python program that converts temperatures from Celsius to\\nFahrenheit. Take the temperature in Celsius as input, store it in a variable,\\nconvert it to Fahrenheit, and display the result'"
      ]
     },
     "execution_count": 1,
     "metadata": {},
     "output_type": "execute_result"
    }
   ],
   "source": [
    "'''Write a Python program that converts temperatures from Celsius to\n",
    "Fahrenheit. Take the temperature in Celsius as input, store it in a variable,\n",
    "convert it to Fahrenheit, and display the result'''"
   ]
  },
  {
   "cell_type": "code",
   "execution_count": 10,
   "id": "98dd4a0e-bd0d-47bb-9255-f971c6503e9a",
   "metadata": {},
   "outputs": [
    {
     "name": "stdin",
     "output_type": "stream",
     "text": [
      "Enter the temperature:  102\n"
     ]
    }
   ],
   "source": [
    "C = int(input(\"Enter the temperature: \"))"
   ]
  },
  {
   "cell_type": "code",
   "execution_count": 11,
   "id": "019f900d-b9ea-4d5d-b911-22e5dc1719d2",
   "metadata": {},
   "outputs": [],
   "source": [
    "F = ( 1.8* C )+ 32"
   ]
  },
  {
   "cell_type": "code",
   "execution_count": 12,
   "id": "90013200-9f4f-4650-ad09-b6a2e70a821e",
   "metadata": {},
   "outputs": [
    {
     "name": "stdout",
     "output_type": "stream",
     "text": [
      "Temperature in Fahrenheit= 215.6\n"
     ]
    }
   ],
   "source": [
    "print(\"Temperature in Fahrenheit=\", F)"
   ]
  },
  {
   "cell_type": "code",
   "execution_count": 20,
   "id": "499c78bf-9d53-4644-8cd2-270d1b91b631",
   "metadata": {},
   "outputs": [],
   "source": [
    "#String Based Questions\n",
    "#question 1"
   ]
  },
  {
   "cell_type": "code",
   "execution_count": 21,
   "id": "6878c804-1aba-474d-bb4c-330c6fb67391",
   "metadata": {},
   "outputs": [
    {
     "name": "stdin",
     "output_type": "stream",
     "text": [
      "Enter string: Satyam Sinha\n"
     ]
    }
   ],
   "source": [
    "string = str(input(\"Enter string:\"))\n",
    "#Satyam Sinha"
   ]
  },
  {
   "cell_type": "code",
   "execution_count": 22,
   "id": "a1c884d7-2ed8-47e4-92f3-6790352ce5f3",
   "metadata": {},
   "outputs": [],
   "source": [
    "count=0"
   ]
  },
  {
   "cell_type": "code",
   "execution_count": 23,
   "id": "0b357078-0220-4b6f-b3ee-ac3ae59a5e1e",
   "metadata": {},
   "outputs": [],
   "source": [
    "for i in string:\n",
    "      count=count+1"
   ]
  },
  {
   "cell_type": "code",
   "execution_count": 24,
   "id": "8c8b08a4-5dc2-48f6-b838-e32ba8ba4e60",
   "metadata": {},
   "outputs": [
    {
     "name": "stdout",
     "output_type": "stream",
     "text": [
      "Length of the string is:\n",
      "12\n"
     ]
    }
   ],
   "source": [
    "print(\"Length of the string is:\")\n",
    "print(count)\n"
   ]
  },
  {
   "cell_type": "code",
   "execution_count": 1,
   "id": "40a3c87a-7277-4ba8-8c89-f11b91aefc59",
   "metadata": {},
   "outputs": [],
   "source": [
    "#ques 2"
   ]
  },
  {
   "cell_type": "code",
   "execution_count": 49,
   "id": "08fb5789-843f-4f53-8aba-7a12a28c44d4",
   "metadata": {},
   "outputs": [
    {
     "name": "stdin",
     "output_type": "stream",
     "text": [
      "Enter string: Satyam Sinha\n"
     ]
    }
   ],
   "source": [
    "string = input(\"Enter string:\")\n",
    "\n",
    "#String is Satyam Sinha\n"
   ]
  },
  {
   "cell_type": "code",
   "execution_count": 50,
   "id": "f2abd653-76f7-41fc-9591-c6566ae553ec",
   "metadata": {},
   "outputs": [],
   "source": [
    "Count = 0"
   ]
  },
  {
   "cell_type": "code",
   "execution_count": 51,
   "id": "f6798e78-5141-4535-a065-91b374f3ca5e",
   "metadata": {},
   "outputs": [],
   "source": [
    "for i in string:\n",
    " if i=='a' or  i=='e' or i=='i' or i=='o' or  i=='u' or i=='A' or  i=='E' or i=='I' or i=='O' or  i=='U':\n",
    "    Count+=1\n"
   ]
  },
  {
   "cell_type": "code",
   "execution_count": 52,
   "id": "8f52508c-3b75-4bed-8159-1b4e476adb02",
   "metadata": {},
   "outputs": [
    {
     "name": "stdout",
     "output_type": "stream",
     "text": [
      "Vowels found are=4\n"
     ]
    }
   ],
   "source": [
    "if Count == 0:\n",
    " print(\"No Vowels found\")\n",
    "else:\n",
    "    \n",
    "    print(\"Vowels found are=\" + str(Count))\n"
   ]
  },
  {
   "cell_type": "code",
   "execution_count": null,
   "id": "39a760f6-db29-40d5-a1f3-8bfdf79d8cf6",
   "metadata": {},
   "outputs": [],
   "source": [
    "# 3 question "
   ]
  },
  {
   "cell_type": "code",
   "execution_count": 9,
   "id": "1ecb2446-5c6d-48f2-a8c9-8a09f8bd762d",
   "metadata": {},
   "outputs": [],
   "source": [
    "def string(x):\n",
    "  return x[::-1]\n"
   ]
  },
  {
   "cell_type": "code",
   "execution_count": 12,
   "id": "2782b478-b6f9-466f-887d-3dfffea486b2",
   "metadata": {},
   "outputs": [],
   "source": [
    "mytxt = string(\"I am good boy\")\n"
   ]
  },
  {
   "cell_type": "code",
   "execution_count": 13,
   "id": "f75a474d-519f-452a-ace3-6d21708cd2bb",
   "metadata": {},
   "outputs": [
    {
     "name": "stdout",
     "output_type": "stream",
     "text": [
      "yob doog ma I\n"
     ]
    }
   ],
   "source": [
    "print(mytxt)\n"
   ]
  },
  {
   "cell_type": "code",
   "execution_count": 3,
   "id": "2eee582c-4565-4679-b67f-af854260d111",
   "metadata": {},
   "outputs": [],
   "source": [
    "#4 question\n",
    "#String is used SYS"
   ]
  },
  {
   "cell_type": "code",
   "execution_count": 28,
   "id": "f3113c7f-19cb-48c4-ae9c-0f49155b6597",
   "metadata": {},
   "outputs": [],
   "source": [
    "def check_palindrome_1(s):\n",
    "    reversed_s = s[::-1]\n",
    "    status=1\n",
    "    if(s!=reversed_s):\n",
    "        status=0\n",
    "    return status"
   ]
  },
  {
   "cell_type": "code",
   "execution_count": 29,
   "id": "6b34037e-b8f8-4b06-ad2d-d1000ad16a83",
   "metadata": {},
   "outputs": [
    {
     "name": "stdin",
     "output_type": "stream",
     "text": [
      "Enter the string:  SYS\n"
     ]
    },
    {
     "name": "stdout",
     "output_type": "stream",
     "text": [
      "It is a palindrome \n"
     ]
    }
   ],
   "source": [
    "s = input(\"Enter the string: \")\n",
    "status= check_palindrome_1(s)\n",
    "if(status):\n",
    "    print(\"It is a palindrome \")\n",
    "else:\n",
    "    print(\"Sorry! Try again\")\n",
    "    "
   ]
  },
  {
   "cell_type": "code",
   "execution_count": 1,
   "id": "c234026d-a62c-4d76-8167-94b9c232d2e8",
   "metadata": {},
   "outputs": [],
   "source": [
    "#5 QUESTION"
   ]
  },
  {
   "cell_type": "code",
   "execution_count": 2,
   "id": "74a7100c-cef0-49f3-8e25-6eb3423ccee0",
   "metadata": {},
   "outputs": [
    {
     "name": "stdin",
     "output_type": "stream",
     "text": [
      "Enter the string:     HOW    ARE UU  ?\n"
     ]
    },
    {
     "name": "stdout",
     "output_type": "stream",
     "text": [
      "HOWAREUU?\n"
     ]
    }
   ],
   "source": [
    "s = input(\"Enter the string: \")\n",
    "no_space = s.replace(\" \", \"\")\n",
    "print(no_space) \n"
   ]
  },
  {
   "cell_type": "code",
   "execution_count": null,
   "id": "24581c29-4ead-411d-ba5e-02eb4d2a7f8c",
   "metadata": {},
   "outputs": [],
   "source": []
  }
 ],
 "metadata": {
  "kernelspec": {
   "display_name": "Python 3 (ipykernel)",
   "language": "python",
   "name": "python3"
  },
  "language_info": {
   "codemirror_mode": {
    "name": "ipython",
    "version": 3
   },
   "file_extension": ".py",
   "mimetype": "text/x-python",
   "name": "python",
   "nbconvert_exporter": "python",
   "pygments_lexer": "ipython3",
   "version": "3.10.8"
  },
  "toc-showcode": true
 },
 "nbformat": 4,
 "nbformat_minor": 5
}
